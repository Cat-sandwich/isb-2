{
 "cells": [
  {
   "cell_type": "code",
   "execution_count": 10,
   "metadata": {},
   "outputs": [],
   "source": [
    "import math"
   ]
  },
  {
   "attachments": {},
   "cell_type": "markdown",
   "metadata": {},
   "source": [
    "### Чтение псевдослучайного числа из файла"
   ]
  },
  {
   "cell_type": "code",
   "execution_count": 17,
   "metadata": {},
   "outputs": [
    {
     "name": "stdout",
     "output_type": "stream",
     "text": [
      "Последовательность:  11001111100101001111010100110100000000011111000101001010001101110011011111010011010111000001101101111111010111001101001110111000\n",
      "Длина последовательности:  128\n"
     ]
    }
   ],
   "source": [
    "with open(\"generated_sequence.txt\",\"r\") as file:\n",
    "        generated_sequence = file.readline()\n",
    "print(\"Последовательность: \",generated_sequence)\n",
    "len_sequence = len(generated_sequence)\n",
    "print(\"Длина последовательности: \",len_sequence)\n"
   ]
  },
  {
   "attachments": {},
   "cell_type": "markdown",
   "metadata": {},
   "source": [
    "### Частотный побитовый тест"
   ]
  },
  {
   "cell_type": "code",
   "execution_count": 25,
   "metadata": {},
   "outputs": [
    {
     "name": "stdout",
     "output_type": "stream",
     "text": [
      "Последовательность прошла проверку)\n",
      "Значение Р1 =  0.2888443663464849\n"
     ]
    }
   ],
   "source": [
    "sum = 0\n",
    "for i in generated_sequence:\n",
    "    if (i == \"0\"):\n",
    "        i = \"-1\"\n",
    "    sum = sum + int(i)\n",
    "\n",
    "S = abs(sum)/ math.sqrt(len_sequence)\n",
    "P1 = math.erfc(S / math.sqrt(2))\n",
    "\n",
    "if (P1 > 0.01):\n",
    "    print(\"Последовательность прошла проверку)\")\n",
    "    print(\"Значение Р1 = \", P1)\n",
    "else: \n",
    "    print(\"Последовательность НЕ прошла проверку(\")"
   ]
  },
  {
   "attachments": {},
   "cell_type": "markdown",
   "metadata": {},
   "source": [
    "### Тест на одинаковые подряд идущие биты"
   ]
  },
  {
   "cell_type": "code",
   "execution_count": 27,
   "metadata": {},
   "outputs": [
    {
     "name": "stdout",
     "output_type": "stream",
     "text": [
      "Продолжаем работу\n",
      "Последовательность прошла проверку)\n",
      "Значение Р2 =  0.6637700912920717\n"
     ]
    }
   ],
   "source": [
    "frequency_1 = generated_sequence.count('1') /len_sequence\n",
    "if (abs(frequency_1 - 0.5) > 2 / len_sequence):\n",
    "    print(\"Продолжаем работу\")\n",
    "\n",
    "Vn = 0\n",
    "for i in range(0, len_sequence - 1):\n",
    "    if (generated_sequence[i] != generated_sequence[i+1]):\n",
    "        Vn = Vn + 1\n",
    "# считаем отдельно числитель и знаменатель\n",
    "numerator = abs(Vn - 2 * len_sequence * frequency_1 * (1 - frequency_1)) \n",
    "denominator = 2 * math.sqrt(2 * len_sequence) * frequency_1 * (1 - frequency_1)\n",
    "P2 = math.erfc(numerator / denominator)\n",
    "\n",
    "if (P2 > 0.01):\n",
    "    print(\"Последовательность прошла проверку)\")\n",
    "    print(\"Значение Р2 = \", P2)\n",
    "else: \n",
    "    print(\"Последовательность НЕ прошла проверку(\")"
   ]
  }
 ],
 "metadata": {
  "kernelspec": {
   "display_name": "Python 3",
   "language": "python",
   "name": "python3"
  },
  "language_info": {
   "codemirror_mode": {
    "name": "ipython",
    "version": 3
   },
   "file_extension": ".py",
   "mimetype": "text/x-python",
   "name": "python",
   "nbconvert_exporter": "python",
   "pygments_lexer": "ipython3",
   "version": "3.10.7"
  },
  "orig_nbformat": 4,
  "vscode": {
   "interpreter": {
    "hash": "1af5a1ec5683947446bd5f176e49a8bdacde1661c6109a52b4e2c5a12da96685"
   }
  }
 },
 "nbformat": 4,
 "nbformat_minor": 2
}
