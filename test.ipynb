{
 "cells": [
  {
   "cell_type": "code",
   "execution_count": 25,
   "metadata": {},
   "outputs": [],
   "source": [
    "import math\n",
    "import scipy\n",
    "from scipy.special import gammaincc\n",
    "import random"
   ]
  },
  {
   "attachments": {},
   "cell_type": "markdown",
   "metadata": {},
   "source": [
    "### Чтение псевдослучайного числа из файла"
   ]
  },
  {
   "cell_type": "code",
   "execution_count": 26,
   "metadata": {},
   "outputs": [
    {
     "name": "stdout",
     "output_type": "stream",
     "text": [
      "Последовательность:  11110100100001001010001000110111011001100001100011000000101101000100110111011010111001100101101110111001011111010100100101010011\n",
      "Длина последовательности:  128\n"
     ]
    }
   ],
   "source": [
    "with open(\"generated_sequence.txt\",\"r\") as file:\n",
    "        generated_sequence = file.readline()\n",
    "        \n",
    "print(\"Последовательность: \",generated_sequence)\n",
    "len_sequence = len(generated_sequence)\n",
    "print(\"Длина последовательности: \",len_sequence)\n"
   ]
  },
  {
   "attachments": {},
   "cell_type": "markdown",
   "metadata": {},
   "source": [
    "### Частотный побитовый тест"
   ]
  },
  {
   "cell_type": "code",
   "execution_count": 27,
   "metadata": {},
   "outputs": [
    {
     "name": "stdout",
     "output_type": "stream",
     "text": [
      "Последовательность прошла проверку)\n",
      "Значение Р1 =  1.0\n"
     ]
    }
   ],
   "source": [
    "s0 = 0\n",
    "for i in generated_sequence:\n",
    "    if (i == \"0\"):\n",
    "        i = \"-1\"\n",
    "    s0 = s0 + int(i)\n",
    "\n",
    "S = abs(s0)/ math.sqrt(len_sequence)\n",
    "P1 = math.erfc(S / math.sqrt(2))\n",
    "\n",
    "if (P1 >= 0.01):\n",
    "    print(\"Последовательность прошла проверку)\")\n",
    "    print(\"Значение Р1 = \", P1)\n",
    "else: \n",
    "    print(\"Последовательность НЕ прошла проверку(\")\n",
    "    print(\"Значение Р1 = \", P1)"
   ]
  },
  {
   "attachments": {},
   "cell_type": "markdown",
   "metadata": {},
   "source": [
    "### Тест на одинаковые подряд идущие биты"
   ]
  },
  {
   "cell_type": "code",
   "execution_count": 28,
   "metadata": {},
   "outputs": [
    {
     "name": "stdout",
     "output_type": "stream",
     "text": [
      "Последовательность прошла проверку)\n",
      "Значение Р2 =  0.28884436634648486\n"
     ]
    }
   ],
   "source": [
    "frequency_1 = generated_sequence.count('1') /len_sequence\n",
    "if (abs(frequency_1 - 0.5) > 2 / len_sequence):\n",
    "    print(\"Продолжаем работу\")\n",
    "# считаем число знакоперемен\n",
    "Vn = 0\n",
    "for i in range(0, len_sequence - 1):\n",
    "    if (generated_sequence[i] != generated_sequence[i+1]):\n",
    "        Vn = Vn + 1\n",
    "# считаем отдельно числитель и знаменатель\n",
    "numerator = abs(Vn - 2 * len_sequence * frequency_1 * (1 - frequency_1)) \n",
    "denominator = 2 * math.sqrt(2 * len_sequence) * frequency_1 * (1 - frequency_1)\n",
    "P2 = math.erfc(numerator / denominator)\n",
    "\n",
    "if (P2 >= 0.01):\n",
    "    print(\"Последовательность прошла проверку)\")\n",
    "    print(\"Значение Р2 = \", P2)\n",
    "else: \n",
    "    print(\"Последовательность НЕ прошла проверку(\")\n",
    "    print(\"Значение Р2 = \", P1)"
   ]
  },
  {
   "attachments": {},
   "cell_type": "markdown",
   "metadata": {},
   "source": [
    "### Тест на самую длинную последовательность единиц в блоке"
   ]
  },
  {
   "cell_type": "code",
   "execution_count": 29,
   "metadata": {},
   "outputs": [
    {
     "name": "stdout",
     "output_type": "stream",
     "text": [
      "[5, 2, 3, 5, 4, 2, 2, 4, 4, 5, 5, 5, 5, 6, 3, 4]\n",
      "<class 'int'>\n",
      "0 3 2 7\n",
      "Последовательность прошла проверку)\n",
      "Значение Р3 =  0.012000475079420326\n"
     ]
    }
   ],
   "source": [
    "list_len_1 = []\n",
    "# считаем число едениц в каждой восьмерке\n",
    "for i in range(0, len_sequence, 8):\n",
    "    slice = generated_sequence[i:i + 8]\n",
    "    list_len_1.append(int(slice.count('1')))\n",
    "print(list_len_1)\n",
    "# распределяем по vi\n",
    "print(type(list_len_1[1]))\n",
    "v1 = sum(x <= 1 for x in list_len_1)\n",
    "v2 = sum(x == 2 for x in list_len_1)\n",
    "v3 = sum(x == 3 for x in list_len_1)\n",
    "v4 = sum(x > 4 for x in list_len_1)\n",
    "print(v1, v2, v3, v4)\n",
    "list_vi = [v1, v2, v3, v4]\n",
    "# считаем ХИ-квадрат\n",
    "list_pi = [0.2148, 0.3672, 0.2305, 0.1875]\n",
    "Xi = 0\n",
    "for i in range(0, 4):\n",
    "    numerator = (list_vi[i] - 16 * list_pi[i])**2\n",
    "    denominator = 16 * list_pi[i]\n",
    "    Xi = Xi + (numerator/denominator)\n",
    "\n",
    "P3 = gammaincc(1.5, Xi/2)\n",
    "\n",
    "if (P3 >= 0.01):\n",
    "    print(\"Последовательность прошла проверку)\")\n",
    "    print(\"Значение Р3 = \", P3)\n",
    "else: \n",
    "    print(\"Последовательность НЕ прошла проверку(\")\n",
    "    print(\"Значение Р3 = \", P3)"
   ]
  }
 ],
 "metadata": {
  "kernelspec": {
   "display_name": "Python 3",
   "language": "python",
   "name": "python3"
  },
  "language_info": {
   "codemirror_mode": {
    "name": "ipython",
    "version": 3
   },
   "file_extension": ".py",
   "mimetype": "text/x-python",
   "name": "python",
   "nbconvert_exporter": "python",
   "pygments_lexer": "ipython3",
   "version": "3.10.7"
  },
  "orig_nbformat": 4,
  "vscode": {
   "interpreter": {
    "hash": "1af5a1ec5683947446bd5f176e49a8bdacde1661c6109a52b4e2c5a12da96685"
   }
  }
 },
 "nbformat": 4,
 "nbformat_minor": 2
}
